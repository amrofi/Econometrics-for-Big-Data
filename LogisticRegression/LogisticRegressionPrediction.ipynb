{
 "cells": [
  {
   "cell_type": "code",
   "execution_count": 222,
   "metadata": {},
   "outputs": [
    {
     "data": {
      "text/html": [
       "<ol class=list-inline>\n",
       "\t<li>'default'</li>\n",
       "\t<li>'student'</li>\n",
       "\t<li>'balance'</li>\n",
       "\t<li>'income'</li>\n",
       "</ol>\n"
      ],
      "text/latex": [
       "\\begin{enumerate*}\n",
       "\\item 'default'\n",
       "\\item 'student'\n",
       "\\item 'balance'\n",
       "\\item 'income'\n",
       "\\end{enumerate*}\n"
      ],
      "text/markdown": [
       "1. 'default'\n",
       "2. 'student'\n",
       "3. 'balance'\n",
       "4. 'income'\n",
       "\n",
       "\n"
      ],
      "text/plain": [
       "[1] \"default\" \"student\" \"balance\" \"income\" "
      ]
     },
     "metadata": {},
     "output_type": "display_data"
    }
   ],
   "source": [
    "#library of datasets\n",
    "library(ISLR)\n",
    "\n",
    "#creates an object for the dataset\n",
    "Default <- data.frame(Default)\n",
    "\n",
    "#print names of the columns\n",
    "names(Default)"
   ]
  },
  {
   "cell_type": "markdown",
   "metadata": {},
   "source": [
    "## Logistic Regression \n",
    "![](logisticR.png)\n",
    "The picture above simplifies the ML strategy of Logistic Regression.  If we want to predict a varaible Y, we can give a logistic regresssion model inputs, $X_1$, $X_2$, ..., $X_n$ and the model creates an equation on the likelyhood of Y happening.  Usually works best if Y is a yes or no answer but can be modified for non-binary responses.  We will first show how we create this model in R and then in the next section, test our model using a common method in ML."
   ]
  },
  {
   "cell_type": "code",
   "execution_count": 223,
   "metadata": {
    "collapsed": true
   },
   "outputs": [],
   "source": [
    "#creates a logistic regression on default with income and balance as the predictors for all data\n",
    "glm.fit <- glm(default ~ income + balance , data=Default ,family=binomial)"
   ]
  },
  {
   "cell_type": "code",
   "execution_count": 224,
   "metadata": {},
   "outputs": [
    {
     "data": {
      "text/plain": [
       "\n",
       "Call:\n",
       "glm(formula = default ~ income + balance, family = binomial, \n",
       "    data = Default)\n",
       "\n",
       "Deviance Residuals: \n",
       "    Min       1Q   Median       3Q      Max  \n",
       "-2.4725  -0.1444  -0.0574  -0.0211   3.7245  \n",
       "\n",
       "Coefficients:\n",
       "              Estimate Std. Error z value Pr(>|z|)    \n",
       "(Intercept) -1.154e+01  4.348e-01 -26.545  < 2e-16 ***\n",
       "income       2.081e-05  4.985e-06   4.174 2.99e-05 ***\n",
       "balance      5.647e-03  2.274e-04  24.836  < 2e-16 ***\n",
       "---\n",
       "Signif. codes:  0 ‘***’ 0.001 ‘**’ 0.01 ‘*’ 0.05 ‘.’ 0.1 ‘ ’ 1\n",
       "\n",
       "(Dispersion parameter for binomial family taken to be 1)\n",
       "\n",
       "    Null deviance: 2920.6  on 9999  degrees of freedom\n",
       "Residual deviance: 1579.0  on 9997  degrees of freedom\n",
       "AIC: 1585\n",
       "\n",
       "Number of Fisher Scoring iterations: 8\n"
      ]
     },
     "metadata": {},
     "output_type": "display_data"
    }
   ],
   "source": [
    "#summary of logistic regression for all data\n",
    "summary(glm.fit)"
   ]
  },
  {
   "cell_type": "markdown",
   "metadata": {},
   "source": [
    "### Now we will use the method of Validation Set Approach to test a logistic model. to do this we will split our dataset into two pieces; one for training and the other half for validation.  We will use the training data for our model.  Using our model, we will try to predict whether the people in the validation set default.  If the percentage of defaulting is higher than 50% than that person we predict to default.  We will compare that prediction and their actual default data to see how many times the prediction was wrong, which is our validation error rate."
   ]
  },
  {
   "cell_type": "markdown",
   "metadata": {},
   "source": []
  },
  {
   "cell_type": "code",
   "execution_count": 225,
   "metadata": {
    "scrolled": false
   },
   "outputs": [],
   "source": [
    "#randomly selects 50% of the sample for training data\n",
    "train = sample(dim(Default)[1], dim(Default)[1]/2)"
   ]
  },
  {
   "cell_type": "code",
   "execution_count": 226,
   "metadata": {
    "collapsed": true
   },
   "outputs": [],
   "source": [
    "#creates fit using training data\n",
    "glm.fit <- glm(default ~ income + balance , data=Default ,family=binomial, subset = train)"
   ]
  },
  {
   "cell_type": "code",
   "execution_count": 227,
   "metadata": {},
   "outputs": [],
   "source": [
    "#creates validation set\n",
    "Validation = Default[-train,]\n",
    "\n",
    "#predicts if a person in the validation set defaults using the logistic model \n",
    "probs = predict(glm.fit, Validation, type = \"response\")\n",
    "\n",
    "#Makes an array with all No's for the validation set\n",
    "glm.pred = rep(\"No\", dim(Default)[1]/2)\n",
    "\n",
    "#if the probably of defaulting is higher than 50% than we say the person is likely to default\n",
    "glm.pred[probs > 0.5] = \"Yes\""
   ]
  },
  {
   "cell_type": "code",
   "execution_count": 228,
   "metadata": {},
   "outputs": [
    {
     "name": "stdout",
     "output_type": "stream",
     "text": [
      "Validation error rate:  2.4 %"
     ]
    }
   ],
   "source": [
    "#prints out the validation error which is the amount of times we predicted incorrectly over all predictions\n",
    "cat(\"Validation error rate: \", mean(glm.pred != Validation$default)*100, \"%\")"
   ]
  },
  {
   "cell_type": "markdown",
   "metadata": {},
   "source": [
    "### We just used supervised ML to predict whether a person defaults based on their income and balance.  The Validation error rate was small enough to say this is a good model to be used for any person!"
   ]
  },
  {
   "cell_type": "code",
   "execution_count": null,
   "metadata": {
    "collapsed": true
   },
   "outputs": [],
   "source": []
  }
 ],
 "metadata": {
  "kernelspec": {
   "display_name": "R",
   "language": "R",
   "name": "ir"
  },
  "language_info": {
   "codemirror_mode": "r",
   "file_extension": ".r",
   "mimetype": "text/x-r-source",
   "name": "R",
   "pygments_lexer": "r",
   "version": "3.5.1"
  }
 },
 "nbformat": 4,
 "nbformat_minor": 2
}
